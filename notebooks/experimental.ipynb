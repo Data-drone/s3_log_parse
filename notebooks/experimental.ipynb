{
 "cells": [
  {
   "cell_type": "markdown",
   "id": "civil-dialogue",
   "metadata": {},
   "source": [
    "## Testing Notebook"
   ]
  },
  {
   "cell_type": "code",
   "execution_count": 1,
   "id": "above-nitrogen",
   "metadata": {},
   "outputs": [],
   "source": [
    "path = '/opt/spark-data'"
   ]
  },
  {
   "cell_type": "code",
   "execution_count": 2,
   "id": "cubic-wildlife",
   "metadata": {},
   "outputs": [],
   "source": [
    "from __future__ import print_function\n",
    "import os\n",
    "import sys\n",
    "from pyspark.sql import SparkSession\n",
    "from pyspark.sql.types import Row, StructField, StructType, StringType, IntegerType, ArrayType\n",
    "from pyspark.sql.functions import col, split, udf, size, element_at, explode"
   ]
  },
  {
   "cell_type": "code",
   "execution_count": 3,
   "id": "arranged-douglas",
   "metadata": {},
   "outputs": [],
   "source": [
    "spark = SparkSession \\\n",
    "    .builder \\\n",
    "    .appName(\"S3_Analysis\") \\\n",
    "    .master(\"spark://spark-master:7077\") \\\n",
    "    .config(\"spark.executor.cores\", \"2\") \\\n",
    "    .config(\"spark.num.executors\", \"6\") \\\n",
    "    .config(\"spark.executor.memory\", \"2g\") \\\n",
    "    .enableHiveSupport() \\\n",
    "    .getOrCreate()"
   ]
  },
  {
   "cell_type": "code",
   "execution_count": 18,
   "id": "wireless-remedy",
   "metadata": {},
   "outputs": [],
   "source": [
    "## Open the parquet and have a look\n",
    "s3_stats = spark.read.parquet(os.path.join(path, \"s3logs\"))"
   ]
  },
  {
   "cell_type": "code",
   "execution_count": 19,
   "id": "cosmetic-mayor",
   "metadata": {},
   "outputs": [],
   "source": [
    "s3_stats.createOrReplaceTempView(\"s3_stats\")"
   ]
  },
  {
   "cell_type": "code",
   "execution_count": 21,
   "id": "south-fireplace",
   "metadata": {},
   "outputs": [
    {
     "data": {
      "text/plain": [
       "[Row(requesthour=15), Row(requesthour=14)]"
      ]
     },
     "execution_count": 21,
     "metadata": {},
     "output_type": "execute_result"
    }
   ],
   "source": [
    "spark.sql(\"SELECT distinct requesthour from s3_stats\").collect()"
   ]
  },
  {
   "cell_type": "code",
   "execution_count": 22,
   "id": "intensive-campus",
   "metadata": {},
   "outputs": [],
   "source": [
    "key_data = spark.sql(\"SELECT `key` FROM s3_stats\")"
   ]
  },
  {
   "cell_type": "code",
   "execution_count": 23,
   "id": "physical-jacob",
   "metadata": {},
   "outputs": [
    {
     "data": {
      "text/plain": [
       "[Row(key='dmp/conformed/cim/cim_int_models/int_flat_delay/loaddate_partition%253D2020-05-28/part-00018-210bd56d-93cd-4d71-8c05-d2dc38f19972.c000'),\n",
       " Row(key='dmp/edhfs/edh_fs_config_v1_13/hivemanaged/dmp/edhfs/edh_fs_config_v1_13/hivemanaged/interface/part-03081-d77a40ae-33cb-4b74-aff5-11e09c567c25-c000'),\n",
       " Row(key='dmp/conformed/cim/cim_int_models/int_flat_delay/loaddate_partition%253D2020-06-20/part-00144-2c60988b-8140-47bd-b2d3-75e8d9559a92.c000'),\n",
       " Row(key='dmp/edhfs/edh_fs_config_v1_13/hivemanaged/dmp/edhfs/edh_fs_config_v1_13/hivemanaged/interface/part-03073-d77a40ae-33cb-4b74-aff5-11e09c567c25-c000'),\n",
       " Row(key='dmp/conformed/cim/cim_int_models/int_flat_delay/loaddate_partition%253D2020-06-20/part-00144-2c60988b-8140-47bd-b2d3-75e8d9559a92.c000'),\n",
       " Row(key='dmp/edhfs/edh_fs_config_v1_13/hivemanaged/job_dmp_dv1/part-00000-6f743b8f-4b02-4fc3-a1b1-8032d2b88cfe-c000.snappy.parquet'),\n",
       " Row(key='dmp/conformed/cim/cim_int_models/int_flat_delay/loaddate_partition%253D2020-06-18/part-00144-d25d831e-3ff1-4406-8c62-69f630049315.c000'),\n",
       " Row(key='dmp/edhfs/edh_fs_config_v1_13/hivemanaged/job_dmp_dv1/part-00000-6f743b8f-4b02-4fc3-a1b1-8032d2b88cfe-c000.snappy.parquet'),\n",
       " Row(key='dmp/conformed/cim/cim_int_models/int_flat_delay/loaddate_partition%253D2020-04-07/part-00018-0012ebcb-ffe5-47d9-9f2c-f5807ae645d9.c000'),\n",
       " Row(key='dmp/edhfs/edh_fs_config_v1_13/hivemanaged/job_dmp_dv1/part-00000-825a27fd-abee-4481-af24-775bfa20549e-c000.snappy.parquet')]"
      ]
     },
     "execution_count": 23,
     "metadata": {},
     "output_type": "execute_result"
    }
   ],
   "source": [
    "key_data.head(10)"
   ]
  },
  {
   "cell_type": "code",
   "execution_count": 24,
   "id": "premier-relations",
   "metadata": {},
   "outputs": [],
   "source": [
    "## Create some the parent child pairs we need to create out structure\n",
    "def zip_pairs(value):\n",
    "  lead_list = value.copy()\n",
    "  lead_list.pop()\n",
    "  lead_list.insert(0,None)\n",
    "  result = [item for item in zip(lead_list,value)]\n",
    "  \n",
    "  return result\n",
    "\n",
    "pairZip = udf(zip_pairs, ArrayType(ArrayType(StringType())) )\n",
    "\n",
    "df2 = key_data.select(\"key\").withColumn(\"key_split\", split(col(\"key\"), \"/\")) \\\n",
    "        .withColumn(\"depth\", size(col(\"key_split\"))) \\\n",
    "        .withColumn(\"file\", element_at(col(\"key_split\"), -1) ) \\\n",
    "        .withColumn(\"pairs\", pairZip(col(\"key_split\"))) \\\n",
    "        .withColumn(\"_tmp\", explode(col(\"pairs\"))) \\\n",
    "        .withColumn(\"parent\", col(\"_tmp\")[0]) \\\n",
    "        .withColumn(\"child\", col(\"_tmp\")[1]) \\\n",
    "        .drop(\"_tmp\")"
   ]
  },
  {
   "cell_type": "code",
   "execution_count": 25,
   "id": "developmental-center",
   "metadata": {},
   "outputs": [
    {
     "data": {
      "text/plain": [
       "[Row(key='dmp/conformed/cim/cim_int_models/int_flat_delay/loaddate_partition%253D2020-05-28/part-00018-210bd56d-93cd-4d71-8c05-d2dc38f19972.c000'),\n",
       " Row(key='dmp/conformed/cim/cim_int_models/int_flat_delay/loaddate_partition%253D2020-05-28/part-00018-210bd56d-93cd-4d71-8c05-d2dc38f19972.c000'),\n",
       " Row(key='dmp/conformed/cim/cim_int_models/int_flat_delay/loaddate_partition%253D2020-05-28/part-00018-210bd56d-93cd-4d71-8c05-d2dc38f19972.c000'),\n",
       " Row(key='dmp/conformed/cim/cim_int_models/int_flat_delay/loaddate_partition%253D2020-05-28/part-00018-210bd56d-93cd-4d71-8c05-d2dc38f19972.c000'),\n",
       " Row(key='dmp/conformed/cim/cim_int_models/int_flat_delay/loaddate_partition%253D2020-05-28/part-00018-210bd56d-93cd-4d71-8c05-d2dc38f19972.c000'),\n",
       " Row(key='dmp/conformed/cim/cim_int_models/int_flat_delay/loaddate_partition%253D2020-05-28/part-00018-210bd56d-93cd-4d71-8c05-d2dc38f19972.c000'),\n",
       " Row(key='dmp/conformed/cim/cim_int_models/int_flat_delay/loaddate_partition%253D2020-05-28/part-00018-210bd56d-93cd-4d71-8c05-d2dc38f19972.c000'),\n",
       " Row(key='dmp/edhfs/edh_fs_config_v1_13/hivemanaged/dmp/edhfs/edh_fs_config_v1_13/hivemanaged/interface/part-03081-d77a40ae-33cb-4b74-aff5-11e09c567c25-c000'),\n",
       " Row(key='dmp/edhfs/edh_fs_config_v1_13/hivemanaged/dmp/edhfs/edh_fs_config_v1_13/hivemanaged/interface/part-03081-d77a40ae-33cb-4b74-aff5-11e09c567c25-c000'),\n",
       " Row(key='dmp/edhfs/edh_fs_config_v1_13/hivemanaged/dmp/edhfs/edh_fs_config_v1_13/hivemanaged/interface/part-03081-d77a40ae-33cb-4b74-aff5-11e09c567c25-c000')]"
      ]
     },
     "execution_count": 25,
     "metadata": {},
     "output_type": "execute_result"
    }
   ],
   "source": [
    "df2.select('key').take(10)"
   ]
  },
  {
   "cell_type": "markdown",
   "id": "superior-program",
   "metadata": {},
   "source": [
    "## Exploring Entities"
   ]
  },
  {
   "cell_type": "code",
   "execution_count": 13,
   "id": "lesser-tract",
   "metadata": {},
   "outputs": [],
   "source": [
    "relationship_table = df2.select(\"parent\", \"child\").distinct()\n",
    "relationship_table.createOrReplaceTempView(\"relationship_table\")\n",
    "#relationship_table.write.format(\"hive\").saveAsTable(\"logging_demo.relationship_table\")\n",
    "\n",
    "## Exploring just the files\n",
    "storage_files = df2.select(\"key\", \"parent\", \"child\", \"file\").filter( df2.child == df2.file )\n",
    "storage_files.filter(storage_files.parent.contains(\"=\")).show(40,truncate=False)\n",
    "\n",
    "## Exploring the folders in the tree\n",
    "folders = df2.select(\"key\", \"parent\", \"child\", \"file\").filter( df2.child != df2.file )\n",
    "folders.select(\"parent\", \"child\").show(10, truncate=False)\n",
    "\n",
    "distinct_folders = folders.select(\"child\").distinct()\n",
    "\n",
    "entities = spark.sql(\"SELECT parent as stage from relationship_table \\\n",
    "                     UNION SELECT child as stage from relationship_table\")"
   ]
  },
  {
   "cell_type": "code",
   "execution_count": 14,
   "id": "thermal-roads",
   "metadata": {},
   "outputs": [
    {
     "data": {
      "text/plain": [
       "[Row(stage='part_key%253D2019276'),\n",
       " Row(stage='onboard_file_version_av'),\n",
       " Row(stage='part_key%253D202076'),\n",
       " Row(stage='.hive-staging_hive_2020-05-20_16-03-31_084_6366862164164857064-504'),\n",
       " Row(stage='bhp_mcoe_cv_iw69_notification_item_av'),\n",
       " Row(stage='int_flat_timeusage'),\n",
       " Row(stage='part_key%253D2019177'),\n",
       " Row(stage='attempt_20200711074124_0027_m_000070_0'),\n",
       " Row(stage='part_key%253D19681'),\n",
       " Row(stage='attempt_20200705090358_0338_m_000075_0')]"
      ]
     },
     "execution_count": 14,
     "metadata": {},
     "output_type": "execute_result"
    }
   ],
   "source": [
    "entities.head(10)"
   ]
  },
  {
   "cell_type": "markdown",
   "id": "bored-plant",
   "metadata": {},
   "source": [
    "## End"
   ]
  },
  {
   "cell_type": "code",
   "execution_count": 18,
   "id": "differential-preparation",
   "metadata": {},
   "outputs": [],
   "source": [
    "spark.stop()"
   ]
  }
 ],
 "metadata": {
  "kernelspec": {
   "display_name": "Python [conda env:spark]",
   "language": "python",
   "name": "conda-env-spark-py"
  },
  "language_info": {
   "codemirror_mode": {
    "name": "ipython",
    "version": 3
   },
   "file_extension": ".py",
   "mimetype": "text/x-python",
   "name": "python",
   "nbconvert_exporter": "python",
   "pygments_lexer": "ipython3",
   "version": "3.7.10"
  }
 },
 "nbformat": 4,
 "nbformat_minor": 5
}
