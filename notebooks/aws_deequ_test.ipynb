{
 "cells": [
  {
   "cell_type": "markdown",
   "id": "steady-azerbaijan",
   "metadata": {},
   "source": [
    "# Scala Experiment"
   ]
  },
  {
   "cell_type": "code",
   "execution_count": 1,
   "id": "complicated-fight",
   "metadata": {},
   "outputs": [],
   "source": [
    "%%init_spark\n",
    "launcher.master = \"spark://spark-master:7077\"\n",
    "launcher.num_executors = 2\n",
    "launcher.executor_cores = 2\n",
    "launcher.executor_memory = '4G'\n",
    "launcher.packages = [\"com.amazon.deequ:deequ:1.2.2-spark-3.0\"]"
   ]
  },
  {
   "cell_type": "code",
   "execution_count": 2,
   "id": "taken-arctic",
   "metadata": {},
   "outputs": [
    {
     "data": {
      "text/plain": [
       "Intitializing Scala interpreter ..."
      ]
     },
     "metadata": {},
     "output_type": "display_data"
    },
    {
     "data": {
      "text/plain": [
       "Spark Web UI available at http://7847ea2e55be:4040\n",
       "SparkContext available as 'sc' (version = 3.1.1, master = spark://spark-master:7077, app id = app-20210522114526-0001)\n",
       "SparkSession available as 'spark'\n"
      ]
     },
     "metadata": {},
     "output_type": "display_data"
    },
    {
     "data": {
      "text/plain": [
       "res0: org.apache.spark.sql.SparkSession = org.apache.spark.sql.SparkSession@1a869eca\n"
      ]
     },
     "execution_count": 2,
     "metadata": {},
     "output_type": "execute_result"
    }
   ],
   "source": [
    "spark"
   ]
  },
  {
   "cell_type": "code",
   "execution_count": 3,
   "id": "democratic-paradise",
   "metadata": {},
   "outputs": [
    {
     "data": {
      "text/plain": [
       "res1: String = 3.1.1\n"
      ]
     },
     "execution_count": 3,
     "metadata": {},
     "output_type": "execute_result"
    }
   ],
   "source": [
    "spark.version"
   ]
  },
  {
   "cell_type": "code",
   "execution_count": 4,
   "id": "joint-wells",
   "metadata": {},
   "outputs": [
    {
     "data": {
      "text/plain": [
       "path: String = /opt/spark-data\n"
      ]
     },
     "execution_count": 4,
     "metadata": {},
     "output_type": "execute_result"
    }
   ],
   "source": [
    "val path = \"/opt/spark-data\""
   ]
  },
  {
   "cell_type": "code",
   "execution_count": 13,
   "id": "lovely-brisbane",
   "metadata": {},
   "outputs": [
    {
     "data": {
      "text/plain": [
       "import org.apache.spark.sql.SparkSession\n",
       "import com.amazon.deequ.VerificationSuite\n",
       "import com.amazon.deequ.checks.{Check, CheckLevel, CheckStatus}\n",
       "import com.amazon.deequ.constraints.ConstraintStatus\n"
      ]
     },
     "execution_count": 13,
     "metadata": {},
     "output_type": "execute_result"
    }
   ],
   "source": [
    "import org.apache.spark.sql.SparkSession\n",
    "import com.amazon.deequ.VerificationSuite\n",
    "import com.amazon.deequ.checks.{Check, CheckLevel, CheckStatus}\n",
    "import com.amazon.deequ.constraints.ConstraintStatus\n"
   ]
  },
  {
   "cell_type": "code",
   "execution_count": 7,
   "id": "cathedral-brunei",
   "metadata": {},
   "outputs": [
    {
     "data": {
      "text/plain": [
       "s3_stats: org.apache.spark.sql.DataFrame = [bucketowner: string, bucket: string ... 27 more fields]\n"
      ]
     },
     "execution_count": 7,
     "metadata": {},
     "output_type": "execute_result"
    }
   ],
   "source": [
    "// Open the parquet and have a look\n",
    "val s3_stats = spark.read.parquet(path + \"/s3logs\")"
   ]
  },
  {
   "cell_type": "code",
   "execution_count": 9,
   "id": "weighted-exemption",
   "metadata": {},
   "outputs": [
    {
     "name": "stdout",
     "output_type": "stream",
     "text": [
      "root\n",
      " |-- bucketowner: string (nullable = true)\n",
      " |-- bucket: string (nullable = true)\n",
      " |-- requestdatetime: string (nullable = true)\n",
      " |-- remoteip: string (nullable = true)\n",
      " |-- requester: string (nullable = true)\n",
      " |-- requestid: string (nullable = true)\n",
      " |-- operation: string (nullable = true)\n",
      " |-- key: string (nullable = true)\n",
      " |-- request: string (nullable = true)\n",
      " |-- httpstatus: string (nullable = true)\n",
      " |-- errorcode: string (nullable = true)\n",
      " |-- bytessent: integer (nullable = true)\n",
      " |-- objectsize: integer (nullable = true)\n",
      " |-- totaltime: integer (nullable = true)\n",
      " |-- turnaroundtime: integer (nullable = true)\n",
      " |-- referrer: string (nullable = true)\n",
      " |-- useragent: string (nullable = true)\n",
      " |-- versionid: string (nullable = true)\n",
      " |-- hostid: string (nullable = true)\n",
      " |-- sigv: string (nullable = true)\n",
      " |-- ciphersuite: string (nullable = true)\n",
      " |-- authtype: string (nullable = true)\n",
      " |-- endpoint: string (nullable = true)\n",
      " |-- tlsversion: string (nullable = true)\n",
      " |-- requesturi_operation: string (nullable = true)\n",
      " |-- requesturi_key: string (nullable = true)\n",
      " |-- requesturi_httpprotoversion: string (nullable = true)\n",
      " |-- requesttimestamp: timestamp (nullable = true)\n",
      " |-- requesthour: integer (nullable = true)\n",
      "\n"
     ]
    }
   ],
   "source": [
    "s3_stats.printSchema()"
   ]
  },
  {
   "cell_type": "code",
   "execution_count": 17,
   "id": "powerful-tackle",
   "metadata": {},
   "outputs": [
    {
     "data": {
      "text/plain": [
       "verificationResult: com.amazon.deequ.VerificationResult = VerificationResult(Success,Map(Check(Error,unit testing my data,List(CompletenessConstraint(Completeness(requestdatetime,None)), CompletenessConstraint(Completeness(key,None)))) -> CheckResult(Check(Error,unit testing my data,List(CompletenessConstraint(Completeness(requestdatetime,None)), CompletenessConstraint(Completeness(key,None)))),Success,List(ConstraintResult(CompletenessConstraint(Completeness(requestdatetime,None)),Success,None,Some(DoubleMetric(Column,Completeness,requestdatetime,Success(1.0)))), ConstraintResult(CompletenessConstraint(Completeness(key,None)),Success,None,Some(DoubleMetric(Column,Completeness,key,Success(1.0))))))),Map(Completeness(requestdatetime,None) -> DoubleMetric(Column,Completeness,requestdateti...\n"
      ]
     },
     "execution_count": 17,
     "metadata": {},
     "output_type": "execute_result"
    }
   ],
   "source": [
    "// try deequ test\n",
    "val verificationResult = VerificationSuite()\n",
    "    .onData(s3_stats)\n",
    "    .addCheck(\n",
    "        Check(CheckLevel.Error, \"unit testing my data\")\n",
    "            .isComplete(\"requestdatetime\")\n",
    "            .isComplete(\"key\")\n",
    "        )\n",
    "    .run()"
   ]
  },
  {
   "cell_type": "code",
   "execution_count": 18,
   "id": "forward-cabinet",
   "metadata": {},
   "outputs": [
    {
     "name": "stdout",
     "output_type": "stream",
     "text": [
      "The data passed the test, everything is fine!\n"
     ]
    }
   ],
   "source": [
    "if (verificationResult.status == CheckStatus.Success) {\n",
    "  println(\"The data passed the test, everything is fine!\")\n",
    "} else {\n",
    "  println(\"We found errors in the data:\\n\")\n",
    "\n",
    "  val resultsForAllConstraints = verificationResult.checkResults\n",
    "    .flatMap { case (_, checkResult) => checkResult.constraintResults }\n",
    "\n",
    "  resultsForAllConstraints\n",
    "    .filter { _.status != ConstraintStatus.Success }\n",
    "    .foreach { result => println(s\"${result.constraint}: ${result.message.get}\") }\n",
    "}"
   ]
  },
  {
   "cell_type": "code",
   "execution_count": null,
   "id": "million-giant",
   "metadata": {},
   "outputs": [],
   "source": [
    "// stop the session\n",
    "spark.stop()"
   ]
  }
 ],
 "metadata": {
  "kernelspec": {
   "display_name": "spylon-kernel [conda env:spark]",
   "language": "scala",
   "name": "conda-env-spark-spylon-kernel"
  },
  "language_info": {
   "codemirror_mode": "text/x-scala",
   "file_extension": ".scala",
   "help_links": [
    {
     "text": "MetaKernel Magics",
     "url": "https://metakernel.readthedocs.io/en/latest/source/README.html"
    }
   ],
   "mimetype": "text/x-scala",
   "name": "scala",
   "pygments_lexer": "scala",
   "version": "0.4.1"
  }
 },
 "nbformat": 4,
 "nbformat_minor": 5
}
